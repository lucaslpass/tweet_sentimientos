{
 "cells": [
  {
   "cell_type": "code",
   "execution_count": 1,
   "metadata": {},
   "outputs": [
    {
     "name": "stdout",
     "output_type": "stream",
     "text": [
      "[Tweet(url='https://twitter.com/OrVaizman/status/1636323965843939330', date=datetime.datetime(2023, 3, 16, 11, 10, 9, tzinfo=datetime.timezone.utc), rawContent='No no no puedo con la peqa que es \\U0001f979😍 #PiensoEnTi', renderedContent='No no no puedo con la peqa que es \\U0001f979😍 #PiensoEnTi', id=1636323965843939330, user=User(username='OrVaizman', id=631021010, displayname='OrVaizman ☮', rawDescription='', renderedDescription='', descriptionLinks=None, verified=False, created=datetime.datetime(2012, 7, 9, 11, 42, 24, tzinfo=datetime.timezone.utc), followersCount=1247, friendsCount=424, statusesCount=198409, favouritesCount=98660, listedCount=19, mediaCount=10841, location='Israel', protected=False, link=None, profileImageUrl='https://pbs.twimg.com/profile_images/1597357771099459592/8YRAAXhs_normal.jpg', profileBannerUrl='https://pbs.twimg.com/profile_banners/631021010/1676925319', label=None), replyCount=0, retweetCount=0, likeCount=0, quoteCount=0, conversationId=1636323965843939330, lang='es', source='<a href=\"http://twitter.com/download/iphone\" rel=\"nofollow\">Twitter for iPhone</a>', sourceUrl='http://twitter.com/download/iphone', sourceLabel='Twitter for iPhone', links=None, media=None, retweetedTweet=None, quotedTweet=Tweet(url='https://twitter.com/loveforDM/status/1636220234871840769', date=datetime.datetime(2023, 3, 16, 4, 17, 58, tzinfo=datetime.timezone.utc), rawContent='O tamanho da Dulce perto do Ramiro Tomasini,de salto ela dá no ombro dele imagina descalça,ela é desse tamanhinho 🤏🏻\\nMax e Emília 🥰 #PiensoEnTi https://t.co/LhwchVBpMk', renderedContent='O tamanho da Dulce perto do Ramiro Tomasini,de salto ela dá no ombro dele imagina descalça,ela é desse tamanhinho 🤏🏻\\nMax e Emília 🥰 #PiensoEnTi https://t.co/LhwchVBpMk', id=1636220234871840769, user=User(username='loveforDM', id=1584534514801459200, displayname='wany Oliveira ☮️', rawDescription='exaltar todos os dias a Queen DULCE MARIA 👑', renderedDescription='exaltar todos os dias a Queen DULCE MARIA 👑', descriptionLinks=None, verified=False, created=datetime.datetime(2022, 10, 24, 13, 22, 58, tzinfo=datetime.timezone.utc), followersCount=132, friendsCount=192, statusesCount=1612, favouritesCount=12237, listedCount=1, mediaCount=169, location='', protected=False, link=None, profileImageUrl='https://pbs.twimg.com/profile_images/1635774097048186881/g_u6Z4v-_normal.jpg', profileBannerUrl='https://pbs.twimg.com/profile_banners/1584534514801459200/1676938075', label=None), replyCount=0, retweetCount=8, likeCount=9, quoteCount=1, conversationId=1636220234871840769, lang='pt', source='<a href=\"http://twitter.com/download/android\" rel=\"nofollow\">Twitter for Android</a>', sourceUrl='http://twitter.com/download/android', sourceLabel='Twitter for Android', links=None, media=[Photo(previewUrl='https://pbs.twimg.com/media/FrUFoSpXsAAE6wO?format=jpg&name=small', fullUrl='https://pbs.twimg.com/media/FrUFoSpXsAAE6wO?format=jpg&name=orig', altText=None), Photo(previewUrl='https://pbs.twimg.com/media/FrUFofRWAAEjHl2?format=jpg&name=small', fullUrl='https://pbs.twimg.com/media/FrUFofRWAAEjHl2?format=jpg&name=orig', altText=None)], retweetedTweet=None, quotedTweet=None, inReplyToTweetId=None, inReplyToUser=None, mentionedUsers=None, coordinates=None, place=None, hashtags=['PiensoEnTi'], cashtags=None, card=None, viewCount=168, vibe=None), inReplyToTweetId=None, inReplyToUser=None, mentionedUsers=None, coordinates=None, place=None, hashtags=['PiensoEnTi'], cashtags=None, card=None, viewCount=5, vibe=None), Tweet(url='https://twitter.com/weritasdeany/status/1636322505555165185', date=datetime.datetime(2023, 3, 16, 11, 4, 21, tzinfo=datetime.timezone.utc), rawContent='@DulceMaria Para cuando nos sale Laura con \"No Mas Quiero eeh\" en la novela? 😂 #PiensoEnTi', renderedContent='@DulceMaria Para cuando nos sale Laura con \"No Mas Quiero eeh\" en la novela? 😂 #PiensoEnTi', id=1636322505555165185, user=User(username='weritasdeany', id=364894907, displayname='B-Italia 🇮🇹 Fan', rawDescription='el motivo de mi delirio 👉🏻 Anahí 🤩 An follows 19.09.2022 ~ fan account~', renderedDescription='el motivo de mi delirio 👉🏻 Anahí 🤩 An follows 19.09.2022 ~ fan account~', descriptionLinks=None, verified=False, created=datetime.datetime(2011, 8, 30, 14, 39, 37, tzinfo=datetime.timezone.utc), followersCount=10368, friendsCount=1859, statusesCount=122714, favouritesCount=1292, listedCount=41, mediaCount=12123, location='Italy', protected=False, link=None, profileImageUrl='https://pbs.twimg.com/profile_images/1605179419554873346/NwqeBLyN_normal.jpg', profileBannerUrl='https://pbs.twimg.com/profile_banners/364894907/1676944959', label=None), replyCount=0, retweetCount=0, likeCount=0, quoteCount=0, conversationId=1636196910083047424, lang='es', source='<a href=\"http://twitter.com/download/iphone\" rel=\"nofollow\">Twitter for iPhone</a>', sourceUrl='http://twitter.com/download/iphone', sourceLabel='Twitter for iPhone', links=None, media=None, retweetedTweet=None, quotedTweet=None, inReplyToTweetId=1636196910083047424, inReplyToUser=User(username='DulceMaria', id=79327591, displayname='Dulce Maria', rawDescription=None, renderedDescription=None, descriptionLinks=None, verified=None, created=None, followersCount=None, friendsCount=None, statusesCount=None, favouritesCount=None, listedCount=None, mediaCount=None, location=None, protected=None, link=None, profileImageUrl=None, profileBannerUrl=None, label=None), mentionedUsers=[User(username='DulceMaria', id=79327591, displayname='Dulce Maria', rawDescription=None, renderedDescription=None, descriptionLinks=None, verified=None, created=None, followersCount=None, friendsCount=None, statusesCount=None, favouritesCount=None, listedCount=None, mediaCount=None, location=None, protected=None, link=None, profileImageUrl=None, profileBannerUrl=None, label=None)], coordinates=None, place=None, hashtags=['PiensoEnTi'], cashtags=None, card=None, viewCount=13, vibe=None), Tweet(url='https://twitter.com/AleMiliUck86/status/1636318252048449538', date=datetime.datetime(2023, 3, 16, 10, 47, 27, tzinfo=datetime.timezone.utc), rawContent='@DulceMaria Yo pienso, que los sueños de Emilia por muy grande que sean ella... no parara hasta alcanzarlos y no se rendirá tan fácil.  Y en cuanto al anillo de que Ángel le dará a Jeanine  qué el tarde o temprano de que ella no le conviene  #PiensoEnTi', renderedContent='@DulceMaria Yo pienso, que los sueños de Emilia por muy grande que sean ella... no parara hasta alcanzarlos y no se rendirá tan fácil.  Y en cuanto al anillo de que Ángel le dará a Jeanine  qué el tarde o temprano de que ella no le conviene  #PiensoEnTi', id=1636318252048449538, user=User(username='AleMiliUck86', id=990805783725203456, displayname='Ale Ruiz Uckermann⚡ (RBD)', rawDescription='Amo a Chris con mi alma #UckersitaXSiempre @christopheruck 🐺😍 🇻🇪', renderedDescription='Amo a Chris con mi alma #UckersitaXSiempre @christopheruck 🐺😍 🇻🇪', descriptionLinks=None, verified=False, created=datetime.datetime(2018, 4, 30, 4, 11, 21, tzinfo=datetime.timezone.utc), followersCount=475, friendsCount=585, statusesCount=29568, favouritesCount=49009, listedCount=0, mediaCount=1921, location='Venezuela', protected=False, link=None, profileImageUrl='https://pbs.twimg.com/profile_images/1629532785470758912/C746Yplj_normal.jpg', profileBannerUrl='https://pbs.twimg.com/profile_banners/990805783725203456/1677284951', label=None), replyCount=0, retweetCount=0, likeCount=0, quoteCount=0, conversationId=1636196910083047424, lang='es', source='<a href=\"https://mobile.twitter.com\" rel=\"nofollow\">Twitter Web App</a>', sourceUrl='https://mobile.twitter.com', sourceLabel='Twitter Web App', links=None, media=None, retweetedTweet=None, quotedTweet=None, inReplyToTweetId=1636196910083047424, inReplyToUser=User(username='DulceMaria', id=79327591, displayname='Dulce Maria', rawDescription=None, renderedDescription=None, descriptionLinks=None, verified=None, created=None, followersCount=None, friendsCount=None, statusesCount=None, favouritesCount=None, listedCount=None, mediaCount=None, location=None, protected=None, link=None, profileImageUrl=None, profileBannerUrl=None, label=None), mentionedUsers=[User(username='DulceMaria', id=79327591, displayname='Dulce Maria', rawDescription=None, renderedDescription=None, descriptionLinks=None, verified=None, created=None, followersCount=None, friendsCount=None, statusesCount=None, favouritesCount=None, listedCount=None, mediaCount=None, location=None, protected=None, link=None, profileImageUrl=None, profileBannerUrl=None, label=None)], coordinates=None, place=None, hashtags=['PiensoEnTi'], cashtags=None, card=None, viewCount=8, vibe=None)]\n"
     ]
    }
   ],
   "source": [
    "import snscrape.modules.twitter as sn_twitter\n",
    "\n",
    "\n",
    "  \n",
    "def extraer_tweets(  cont, entero ):\n",
    "        \n",
    "    tweets=[]\n",
    "    for tweet in sn_twitter.TwitterSearchScraper(\"#PiensoEnTi\").get_items():\n",
    "        if len(tweets)== cont:\n",
    "            break\n",
    "        if entero == 1 & tweet.location == \"mexico\":     \n",
    "            tweets.append(tweet)\n",
    "        else:\n",
    "            tweets.append([ tweet.id, tweet.date, tweet.content, tweet.username])\n",
    "    return tweets   \n",
    "\n",
    "print(extraer_tweets(3,1))"
   ]
  }
 ],
 "metadata": {
  "kernelspec": {
   "display_name": "Python 3",
   "language": "python",
   "name": "python3"
  },
  "language_info": {
   "codemirror_mode": {
    "name": "ipython",
    "version": 3
   },
   "file_extension": ".py",
   "mimetype": "text/x-python",
   "name": "python",
   "nbconvert_exporter": "python",
   "pygments_lexer": "ipython3",
   "version": "3.10.6"
  },
  "orig_nbformat": 4
 },
 "nbformat": 4,
 "nbformat_minor": 2
}
