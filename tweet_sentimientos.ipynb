{
 "cells": [
  {
   "attachments": {},
   "cell_type": "markdown",
   "metadata": {},
   "source": [
    "Carga de librerias"
   ]
  },
  {
   "cell_type": "code",
   "execution_count": 2,
   "metadata": {},
   "outputs": [],
   "source": [
    "import json as js\n",
    "import pandas as pd\n",
    "from Base_d  import Bd  \n"
   ]
  },
  {
   "attachments": {},
   "cell_type": "markdown",
   "metadata": {},
   "source": [
    "lectura del archivo json que contiene los tweets"
   ]
  },
  {
   "cell_type": "code",
   "execution_count": 5,
   "metadata": {},
   "outputs": [],
   "source": [
    "f = open(\"tweets1.json\", \"r\")\n",
    "content = f.read()\n",
    "jsondecoded = js.loads(content)\n",
    "tweets_df=pd.DataFrame(jsondecoded)\n",
    "tweets_df.head()\n",
    "tweets_df.to_csv(\"/home/lucsa/Documentos/Nao.py(data_analyst)/captura/topics_csv/prueba.csv\")"
   ]
  },
  {
   "attachments": {},
   "cell_type": "markdown",
   "metadata": {},
   "source": [
    "inicilizacion de la api"
   ]
  },
  {
   "cell_type": "code",
   "execution_count": 3,
   "metadata": {},
   "outputs": [
    {
     "name": "stdout",
     "output_type": "stream",
     "text": [
      "Error while connecting to MySQL 1045 (28000): Access denied for user 'lucsa'@'localhost' (using password: NO)\n",
      "Connected to MySQL Server version  8.0.32-0ubuntu0.22.04.2\n",
      "You're connected to database:  ('tweet_mx',)\n"
     ]
    }
   ],
   "source": [
    "bd=Bd()\n",
    "bd.set_user(\"lVC$4\")\n",
    "bd.set_host(\"localhost\")\n",
    "bd.set_datebase(\"tweet_mx\")\n",
    "bd.set_passwoord(\"anesartnoc\")\n",
    "bd.get_connection()\n",
    "\n"
   ]
  },
  {
   "attachments": {},
   "cell_type": "markdown",
   "metadata": {},
   "source": [
    "Carga de los archivos a la base de datos MYSQL"
   ]
  },
  {
   "cell_type": "code",
   "execution_count": 4,
   "metadata": {},
   "outputs": [
    {
     "name": "stdout",
     "output_type": "stream",
     "text": [
      "Connected to MySQL Server version  8.0.32-0ubuntu0.22.04.2\n",
      "You're connected to database:  ('tweet_mx',)\n",
      "Record inserted successfully into TweetDB table\n",
      "MySQL connection is closed\n",
      "Connected to MySQL Server version  8.0.32-0ubuntu0.22.04.2\n",
      "You're connected to database:  ('tweet_mx',)\n",
      "Record inserted successfully into TweetDB table\n",
      "MySQL connection is closed\n",
      "Connected to MySQL Server version  8.0.32-0ubuntu0.22.04.2\n",
      "You're connected to database:  ('tweet_mx',)\n",
      "Record inserted successfully into TweetDB table\n",
      "MySQL connection is closed\n",
      "Connected to MySQL Server version  8.0.32-0ubuntu0.22.04.2\n",
      "You're connected to database:  ('tweet_mx',)\n",
      "Record inserted successfully into TweetDB table\n",
      "MySQL connection is closed\n",
      "Connected to MySQL Server version  8.0.32-0ubuntu0.22.04.2\n",
      "You're connected to database:  ('tweet_mx',)\n",
      "Record inserted successfully into TweetDB table\n",
      "MySQL connection is closed\n",
      "Connected to MySQL Server version  8.0.32-0ubuntu0.22.04.2\n",
      "You're connected to database:  ('tweet_mx',)\n",
      "Record inserted successfully into TweetDB table\n",
      "MySQL connection is closed\n",
      "Connected to MySQL Server version  8.0.32-0ubuntu0.22.04.2\n",
      "You're connected to database:  ('tweet_mx',)\n",
      "Record inserted successfully into TweetDB table\n",
      "MySQL connection is closed\n",
      "Connected to MySQL Server version  8.0.32-0ubuntu0.22.04.2\n",
      "You're connected to database:  ('tweet_mx',)\n",
      "Record inserted successfully into TweetDB table\n",
      "MySQL connection is closed\n",
      "Connected to MySQL Server version  8.0.32-0ubuntu0.22.04.2\n",
      "You're connected to database:  ('tweet_mx',)\n",
      "Record inserted successfully into TweetDB table\n",
      "MySQL connection is closed\n",
      "Connected to MySQL Server version  8.0.32-0ubuntu0.22.04.2\n",
      "You're connected to database:  ('tweet_mx',)\n",
      "Record inserted successfully into TweetDB table\n",
      "MySQL connection is closed\n",
      "Connected to MySQL Server version  8.0.32-0ubuntu0.22.04.2\n",
      "You're connected to database:  ('tweet_mx',)\n",
      "Record inserted successfully into TweetDB table\n",
      "MySQL connection is closed\n",
      "Connected to MySQL Server version  8.0.32-0ubuntu0.22.04.2\n",
      "You're connected to database:  ('tweet_mx',)\n",
      "Record inserted successfully into TweetDB table\n",
      "MySQL connection is closed\n",
      "Connected to MySQL Server version  8.0.32-0ubuntu0.22.04.2\n",
      "You're connected to database:  ('tweet_mx',)\n",
      "Record inserted successfully into TweetDB table\n",
      "MySQL connection is closed\n",
      "Connected to MySQL Server version  8.0.32-0ubuntu0.22.04.2\n",
      "You're connected to database:  ('tweet_mx',)\n",
      "Record inserted successfully into TweetDB table\n",
      "MySQL connection is closed\n",
      "Connected to MySQL Server version  8.0.32-0ubuntu0.22.04.2\n",
      "You're connected to database:  ('tweet_mx',)\n",
      "Record inserted successfully into TweetDB table\n",
      "MySQL connection is closed\n",
      "Connected to MySQL Server version  8.0.32-0ubuntu0.22.04.2\n",
      "You're connected to database:  ('tweet_mx',)\n",
      "Record inserted successfully into TweetDB table\n",
      "MySQL connection is closed\n",
      "Connected to MySQL Server version  8.0.32-0ubuntu0.22.04.2\n",
      "You're connected to database:  ('tweet_mx',)\n",
      "Record inserted successfully into TweetDB table\n",
      "MySQL connection is closed\n",
      "Connected to MySQL Server version  8.0.32-0ubuntu0.22.04.2\n",
      "You're connected to database:  ('tweet_mx',)\n",
      "Record inserted successfully into TweetDB table\n",
      "MySQL connection is closed\n",
      "Connected to MySQL Server version  8.0.32-0ubuntu0.22.04.2\n",
      "You're connected to database:  ('tweet_mx',)\n",
      "Record inserted successfully into TweetDB table\n",
      "MySQL connection is closed\n",
      "Connected to MySQL Server version  8.0.32-0ubuntu0.22.04.2\n",
      "You're connected to database:  ('tweet_mx',)\n",
      "Record inserted successfully into TweetDB table\n",
      "MySQL connection is closed\n",
      "Connected to MySQL Server version  8.0.32-0ubuntu0.22.04.2\n",
      "You're connected to database:  ('tweet_mx',)\n",
      "Record inserted successfully into TweetDB table\n",
      "MySQL connection is closed\n",
      "Connected to MySQL Server version  8.0.32-0ubuntu0.22.04.2\n",
      "You're connected to database:  ('tweet_mx',)\n",
      "Record inserted successfully into TweetDB table\n",
      "MySQL connection is closed\n",
      "Connected to MySQL Server version  8.0.32-0ubuntu0.22.04.2\n",
      "You're connected to database:  ('tweet_mx',)\n",
      "Record inserted successfully into TweetDB table\n",
      "MySQL connection is closed\n",
      "Connected to MySQL Server version  8.0.32-0ubuntu0.22.04.2\n",
      "You're connected to database:  ('tweet_mx',)\n",
      "Record inserted successfully into TweetDB table\n",
      "MySQL connection is closed\n",
      "Connected to MySQL Server version  8.0.32-0ubuntu0.22.04.2\n",
      "You're connected to database:  ('tweet_mx',)\n",
      "Record inserted successfully into TweetDB table\n",
      "MySQL connection is closed\n"
     ]
    }
   ],
   "source": [
    "\n",
    "\n",
    "for  i in range(len(tweets_df) ):\n",
    "    bd.insert(tweets_df.id[i], tweets_df.texto[i],tweets_df.usuario[i],tweets_df.hashtags[i], tweets_df.fecha[i], tweets_df.retweets[i] ,tweets_df.favoritos[i] )\n"
   ]
  },
  {
   "attachments": {},
   "cell_type": "markdown",
   "metadata": {},
   "source": [
    "bajada de los datos almasenados en la base de datos"
   ]
  },
  {
   "cell_type": "code",
   "execution_count": 4,
   "metadata": {},
   "outputs": [
    {
     "ename": "NameError",
     "evalue": "name 'bd' is not defined",
     "output_type": "error",
     "traceback": [
      "\u001b[0;31m---------------------------------------------------------------------------\u001b[0m",
      "\u001b[0;31mNameError\u001b[0m                                 Traceback (most recent call last)",
      "Cell \u001b[0;32mIn[4], line 1\u001b[0m\n\u001b[0;32m----> 1\u001b[0m tweets\u001b[39m=\u001b[39mbd\u001b[39m.\u001b[39mexport_tweet()\n\u001b[1;32m      2\u001b[0m tweets_df\u001b[39m=\u001b[39mpd\u001b[39m.\u001b[39mDataFrame(tweets)\n\u001b[1;32m      3\u001b[0m tweets_df\u001b[39m.\u001b[39mhead()\n",
      "\u001b[0;31mNameError\u001b[0m: name 'bd' is not defined"
     ]
    }
   ],
   "source": [
    "tweets=bd.export_tweet()\n",
    "tweets_df=pd.DataFrame(tweets)\n",
    "tweets_df.head()"
   ]
  }
 ],
 "metadata": {
  "kernelspec": {
   "display_name": "Python 3",
   "language": "python",
   "name": "python3"
  },
  "language_info": {
   "codemirror_mode": {
    "name": "ipython",
    "version": 3
   },
   "file_extension": ".py",
   "mimetype": "text/x-python",
   "name": "python",
   "nbconvert_exporter": "python",
   "pygments_lexer": "ipython3",
   "version": "3.10.6"
  },
  "orig_nbformat": 4
 },
 "nbformat": 4,
 "nbformat_minor": 2
}
